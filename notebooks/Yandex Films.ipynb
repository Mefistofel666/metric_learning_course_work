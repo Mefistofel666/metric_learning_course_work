{
 "cells": [
  {
   "cell_type": "code",
   "execution_count": 1,
   "id": "e6811c54",
   "metadata": {},
   "outputs": [],
   "source": [
    "import numpy as np\n",
    "import pandas as pd\n",
    "import nltk\n",
    "from tqdm import tqdm\n",
    "import string"
   ]
  },
  {
   "cell_type": "markdown",
   "id": "2d2a2aed",
   "metadata": {},
   "source": [
    "## Data Loading"
   ]
  },
  {
   "cell_type": "code",
   "execution_count": 2,
   "id": "195a1472",
   "metadata": {},
   "outputs": [
    {
     "name": "stdout",
     "output_type": "stream",
     "text": [
      "Dataframe shape: (18641, 4)\n"
     ]
    },
    {
     "data": {
      "text/html": [
       "<div>\n",
       "<style scoped>\n",
       "    .dataframe tbody tr th:only-of-type {\n",
       "        vertical-align: middle;\n",
       "    }\n",
       "\n",
       "    .dataframe tbody tr th {\n",
       "        vertical-align: top;\n",
       "    }\n",
       "\n",
       "    .dataframe thead th {\n",
       "        text-align: right;\n",
       "    }\n",
       "</style>\n",
       "<table border=\"1\" class=\"dataframe\">\n",
       "  <thead>\n",
       "    <tr style=\"text-align: right;\">\n",
       "      <th></th>\n",
       "      <th>kp_id</th>\n",
       "      <th>rating_kp</th>\n",
       "      <th>genres</th>\n",
       "      <th>description</th>\n",
       "    </tr>\n",
       "  </thead>\n",
       "  <tbody>\n",
       "    <tr>\n",
       "      <th>0</th>\n",
       "      <td>12819</td>\n",
       "      <td>7.70</td>\n",
       "      <td>['триллер' 'мелодрама' 'криминал']</td>\n",
       "      <td>Миллиардер Томас Краун, пресыщенный финансист,...</td>\n",
       "    </tr>\n",
       "    <tr>\n",
       "      <th>1</th>\n",
       "      <td>1260096</td>\n",
       "      <td>-1.00</td>\n",
       "      <td>['семейный' 'для' 'кино' 'ребенок']</td>\n",
       "      <td>Банда саранчи во главе с безжалостным Боссом о...</td>\n",
       "    </tr>\n",
       "    <tr>\n",
       "      <th>2</th>\n",
       "      <td>894673</td>\n",
       "      <td>4.40</td>\n",
       "      <td>['вестерн' 'иностранный' 'триллер' 'мистика' '...</td>\n",
       "      <td>В горах живёт обособленная община, возглавляем...</td>\n",
       "    </tr>\n",
       "    <tr>\n",
       "      <th>3</th>\n",
       "      <td>485364</td>\n",
       "      <td>6.06</td>\n",
       "      <td>['семейный' 'для' 'кино' 'короткометражный' 'р...</td>\n",
       "      <td>Фильм высмеивает тех, кто понимает трудовую ди...</td>\n",
       "    </tr>\n",
       "    <tr>\n",
       "      <th>4</th>\n",
       "      <td>1289632</td>\n",
       "      <td>6.40</td>\n",
       "      <td>['семейный' 'приключение' 'кино']</td>\n",
       "      <td>В скучном городке Линдсборо всё меняется, когд...</td>\n",
       "    </tr>\n",
       "  </tbody>\n",
       "</table>\n",
       "</div>"
      ],
      "text/plain": [
       "     kp_id  rating_kp                                             genres   \n",
       "0    12819       7.70                 ['триллер' 'мелодрама' 'криминал']  \\\n",
       "1  1260096      -1.00                ['семейный' 'для' 'кино' 'ребенок']   \n",
       "2   894673       4.40  ['вестерн' 'иностранный' 'триллер' 'мистика' '...   \n",
       "3   485364       6.06  ['семейный' 'для' 'кино' 'короткометражный' 'р...   \n",
       "4  1289632       6.40                  ['семейный' 'приключение' 'кино']   \n",
       "\n",
       "                                         description  \n",
       "0  Миллиардер Томас Краун, пресыщенный финансист,...  \n",
       "1  Банда саранчи во главе с безжалостным Боссом о...  \n",
       "2  В горах живёт обособленная община, возглавляем...  \n",
       "3  Фильм высмеивает тех, кто понимает трудовую ди...  \n",
       "4  В скучном городке Линдсборо всё меняется, когд...  "
      ]
     },
     "execution_count": 2,
     "metadata": {},
     "output_type": "execute_result"
    }
   ],
   "source": [
    "data = pd.read_csv(\"../datasets/kp_films.csv\")\n",
    "print(f\"Dataframe shape: {data.shape}\")\n",
    "data.head()"
   ]
  },
  {
   "cell_type": "code",
   "execution_count": 3,
   "id": "bf03461c",
   "metadata": {},
   "outputs": [
    {
     "name": "stdout",
     "output_type": "stream",
     "text": [
      "<class 'pandas.core.frame.DataFrame'>\n",
      "RangeIndex: 18641 entries, 0 to 18640\n",
      "Data columns (total 4 columns):\n",
      " #   Column       Non-Null Count  Dtype  \n",
      "---  ------       --------------  -----  \n",
      " 0   kp_id        18499 non-null  object \n",
      " 1   rating_kp    18641 non-null  float64\n",
      " 2   genres       18641 non-null  object \n",
      " 3   description  18641 non-null  object \n",
      "dtypes: float64(1), object(3)\n",
      "memory usage: 582.7+ KB\n"
     ]
    }
   ],
   "source": [
    "data.info()"
   ]
  },
  {
   "cell_type": "code",
   "execution_count": 4,
   "id": "11e4bf30",
   "metadata": {},
   "outputs": [],
   "source": [
    "data['description'] = data['description'].astype('str')"
   ]
  },
  {
   "cell_type": "markdown",
   "id": "d7370eac",
   "metadata": {},
   "source": [
    "## Preprocessing"
   ]
  },
  {
   "cell_type": "markdown",
   "id": "d520cbe0",
   "metadata": {},
   "source": [
    "### Check empty values"
   ]
  },
  {
   "cell_type": "code",
   "execution_count": 5,
   "id": "41ffaad7",
   "metadata": {},
   "outputs": [
    {
     "name": "stdout",
     "output_type": "stream",
     "text": [
      "Descriptions without rating:  kp_id          0\n",
      "rating_kp      0\n",
      "genres         0\n",
      "description    0\n",
      "dtype: int64\n"
     ]
    },
    {
     "data": {
      "text/html": [
       "<div>\n",
       "<style scoped>\n",
       "    .dataframe tbody tr th:only-of-type {\n",
       "        vertical-align: middle;\n",
       "    }\n",
       "\n",
       "    .dataframe tbody tr th {\n",
       "        vertical-align: top;\n",
       "    }\n",
       "\n",
       "    .dataframe thead th {\n",
       "        text-align: right;\n",
       "    }\n",
       "</style>\n",
       "<table border=\"1\" class=\"dataframe\">\n",
       "  <thead>\n",
       "    <tr style=\"text-align: right;\">\n",
       "      <th></th>\n",
       "      <th>kp_id</th>\n",
       "      <th>rating_kp</th>\n",
       "      <th>genres</th>\n",
       "      <th>description</th>\n",
       "    </tr>\n",
       "  </thead>\n",
       "  <tbody>\n",
       "    <tr>\n",
       "      <th>0</th>\n",
       "      <td>12819</td>\n",
       "      <td>7.70</td>\n",
       "      <td>['триллер' 'мелодрама' 'криминал']</td>\n",
       "      <td>Миллиардер Томас Краун, пресыщенный финансист,...</td>\n",
       "    </tr>\n",
       "    <tr>\n",
       "      <th>2</th>\n",
       "      <td>894673</td>\n",
       "      <td>4.40</td>\n",
       "      <td>['вестерн' 'иностранный' 'триллер' 'мистика' '...</td>\n",
       "      <td>В горах живёт обособленная община, возглавляем...</td>\n",
       "    </tr>\n",
       "    <tr>\n",
       "      <th>3</th>\n",
       "      <td>485364</td>\n",
       "      <td>6.06</td>\n",
       "      <td>['семейный' 'для' 'кино' 'короткометражный' 'р...</td>\n",
       "      <td>Фильм высмеивает тех, кто понимает трудовую ди...</td>\n",
       "    </tr>\n",
       "    <tr>\n",
       "      <th>4</th>\n",
       "      <td>1289632</td>\n",
       "      <td>6.40</td>\n",
       "      <td>['семейный' 'приключение' 'кино']</td>\n",
       "      <td>В скучном городке Линдсборо всё меняется, когд...</td>\n",
       "    </tr>\n",
       "    <tr>\n",
       "      <th>5</th>\n",
       "      <td>960385</td>\n",
       "      <td>6.30</td>\n",
       "      <td>['комедия']</td>\n",
       "      <td>С самого начала отношений страстные любовники ...</td>\n",
       "    </tr>\n",
       "  </tbody>\n",
       "</table>\n",
       "</div>"
      ],
      "text/plain": [
       "     kp_id  rating_kp                                             genres   \n",
       "0    12819       7.70                 ['триллер' 'мелодрама' 'криминал']  \\\n",
       "2   894673       4.40  ['вестерн' 'иностранный' 'триллер' 'мистика' '...   \n",
       "3   485364       6.06  ['семейный' 'для' 'кино' 'короткометражный' 'р...   \n",
       "4  1289632       6.40                  ['семейный' 'приключение' 'кино']   \n",
       "5   960385       6.30                                        ['комедия']   \n",
       "\n",
       "                                         description  \n",
       "0  Миллиардер Томас Краун, пресыщенный финансист,...  \n",
       "2  В горах живёт обособленная община, возглавляем...  \n",
       "3  Фильм высмеивает тех, кто понимает трудовую ди...  \n",
       "4  В скучном городке Линдсборо всё меняется, когд...  \n",
       "5  С самого начала отношений страстные любовники ...  "
      ]
     },
     "execution_count": 5,
     "metadata": {},
     "output_type": "execute_result"
    }
   ],
   "source": [
    "data.drop(data[data['rating_kp']==-1.0].index, inplace=True)\n",
    "print(\"Descriptions without rating: \", data[data['rating_kp']==-1.0].count())\n",
    "data.head()"
   ]
  },
  {
   "cell_type": "markdown",
   "id": "e17e1f08",
   "metadata": {},
   "source": [
    "### to lower case"
   ]
  },
  {
   "cell_type": "code",
   "execution_count": 6,
   "id": "e2ed861b",
   "metadata": {},
   "outputs": [],
   "source": [
    "data[\"description\"] = data[\"description\"].str.lower()"
   ]
  },
  {
   "cell_type": "markdown",
   "id": "8f62e7dd",
   "metadata": {},
   "source": [
    "### remove punctuation"
   ]
  },
  {
   "cell_type": "code",
   "execution_count": 7,
   "id": "f9b6dc3e",
   "metadata": {},
   "outputs": [
    {
     "data": {
      "text/html": [
       "<div>\n",
       "<style scoped>\n",
       "    .dataframe tbody tr th:only-of-type {\n",
       "        vertical-align: middle;\n",
       "    }\n",
       "\n",
       "    .dataframe tbody tr th {\n",
       "        vertical-align: top;\n",
       "    }\n",
       "\n",
       "    .dataframe thead th {\n",
       "        text-align: right;\n",
       "    }\n",
       "</style>\n",
       "<table border=\"1\" class=\"dataframe\">\n",
       "  <thead>\n",
       "    <tr style=\"text-align: right;\">\n",
       "      <th></th>\n",
       "      <th>kp_id</th>\n",
       "      <th>rating_kp</th>\n",
       "      <th>genres</th>\n",
       "      <th>description</th>\n",
       "    </tr>\n",
       "  </thead>\n",
       "  <tbody>\n",
       "    <tr>\n",
       "      <th>0</th>\n",
       "      <td>12819</td>\n",
       "      <td>7.70</td>\n",
       "      <td>['триллер' 'мелодрама' 'криминал']</td>\n",
       "      <td>миллиардер томас краун пресыщенный финансист п...</td>\n",
       "    </tr>\n",
       "    <tr>\n",
       "      <th>2</th>\n",
       "      <td>894673</td>\n",
       "      <td>4.40</td>\n",
       "      <td>['вестерн' 'иностранный' 'триллер' 'мистика' '...</td>\n",
       "      <td>в горах живёт обособленная община возглавляема...</td>\n",
       "    </tr>\n",
       "    <tr>\n",
       "      <th>3</th>\n",
       "      <td>485364</td>\n",
       "      <td>6.06</td>\n",
       "      <td>['семейный' 'для' 'кино' 'короткометражный' 'р...</td>\n",
       "      <td>фильм высмеивает тех кто понимает трудовую дис...</td>\n",
       "    </tr>\n",
       "    <tr>\n",
       "      <th>4</th>\n",
       "      <td>1289632</td>\n",
       "      <td>6.40</td>\n",
       "      <td>['семейный' 'приключение' 'кино']</td>\n",
       "      <td>в скучном городке линдсборо всё меняется когда...</td>\n",
       "    </tr>\n",
       "    <tr>\n",
       "      <th>5</th>\n",
       "      <td>960385</td>\n",
       "      <td>6.30</td>\n",
       "      <td>['комедия']</td>\n",
       "      <td>с самого начала отношений страстные любовники ...</td>\n",
       "    </tr>\n",
       "  </tbody>\n",
       "</table>\n",
       "</div>"
      ],
      "text/plain": [
       "     kp_id  rating_kp                                             genres   \n",
       "0    12819       7.70                 ['триллер' 'мелодрама' 'криминал']  \\\n",
       "2   894673       4.40  ['вестерн' 'иностранный' 'триллер' 'мистика' '...   \n",
       "3   485364       6.06  ['семейный' 'для' 'кино' 'короткометражный' 'р...   \n",
       "4  1289632       6.40                  ['семейный' 'приключение' 'кино']   \n",
       "5   960385       6.30                                        ['комедия']   \n",
       "\n",
       "                                         description  \n",
       "0  миллиардер томас краун пресыщенный финансист п...  \n",
       "2  в горах живёт обособленная община возглавляема...  \n",
       "3  фильм высмеивает тех кто понимает трудовую дис...  \n",
       "4  в скучном городке линдсборо всё меняется когда...  \n",
       "5  с самого начала отношений страстные любовники ...  "
      ]
     },
     "execution_count": 7,
     "metadata": {},
     "output_type": "execute_result"
    }
   ],
   "source": [
    "symbols_to_remove = string.punctuation\n",
    "\n",
    "def remove_punctuation(desc):\n",
    "    return desc.translate(str.maketrans('', '', symbols_to_remove))\n",
    "\n",
    "data[\"description\"] = data[\"description\"].apply(lambda desc: remove_punctuation(desc))\n",
    "data.head()"
   ]
  },
  {
   "cell_type": "markdown",
   "id": "b3471593",
   "metadata": {},
   "source": [
    "### remove stop words"
   ]
  },
  {
   "cell_type": "code",
   "execution_count": 8,
   "id": "2ffdd055",
   "metadata": {},
   "outputs": [
    {
     "name": "stderr",
     "output_type": "stream",
     "text": [
      "[nltk_data] Downloading package stopwords to\n",
      "[nltk_data]     /Users/kbduvakin/nltk_data...\n",
      "[nltk_data]   Package stopwords is already up-to-date!\n"
     ]
    },
    {
     "data": {
      "text/plain": [
       "True"
      ]
     },
     "execution_count": 8,
     "metadata": {},
     "output_type": "execute_result"
    }
   ],
   "source": [
    "nltk.download('stopwords')"
   ]
  },
  {
   "cell_type": "code",
   "execution_count": 9,
   "id": "97f65bae",
   "metadata": {},
   "outputs": [
    {
     "data": {
      "text/plain": [
       "'и, в, во, не, что, он, на, я, с, со, как, а, то, все, она, так, его, но, да, ты, к, у, же, вы, за, бы, по, только, ее, мне, было, вот, от, меня, еще, нет, о, из, ему, теперь, когда, даже, ну, вдруг, ли, если, уже, или, ни, быть, был, него, до, вас, нибудь, опять, уж, вам, ведь, там, потом, себя, ничего, ей, может, они, тут, где, есть, надо, ней, для, мы, тебя, их, чем, была, сам, чтоб, без, будто, чего, раз, тоже, себе, под, будет, ж, тогда, кто, этот, того, потому, этого, какой, совсем, ним, здесь, этом, один, почти, мой, тем, чтобы, нее, сейчас, были, куда, зачем, всех, никогда, можно, при, наконец, два, об, другой, хоть, после, над, больше, тот, через, эти, нас, про, всего, них, какая, много, разве, три, эту, моя, впрочем, хорошо, свою, этой, перед, иногда, лучше, чуть, том, нельзя, такой, им, более, всегда, конечно, всю, между'"
      ]
     },
     "execution_count": 9,
     "metadata": {},
     "output_type": "execute_result"
    }
   ],
   "source": [
    "stop_words = \", \".join(nltk.corpus.stopwords.words(\"russian\"))\n",
    "stop_words"
   ]
  },
  {
   "cell_type": "code",
   "execution_count": 10,
   "id": "2e004baa",
   "metadata": {},
   "outputs": [
    {
     "data": {
      "text/html": [
       "<div>\n",
       "<style scoped>\n",
       "    .dataframe tbody tr th:only-of-type {\n",
       "        vertical-align: middle;\n",
       "    }\n",
       "\n",
       "    .dataframe tbody tr th {\n",
       "        vertical-align: top;\n",
       "    }\n",
       "\n",
       "    .dataframe thead th {\n",
       "        text-align: right;\n",
       "    }\n",
       "</style>\n",
       "<table border=\"1\" class=\"dataframe\">\n",
       "  <thead>\n",
       "    <tr style=\"text-align: right;\">\n",
       "      <th></th>\n",
       "      <th>kp_id</th>\n",
       "      <th>rating_kp</th>\n",
       "      <th>genres</th>\n",
       "      <th>description</th>\n",
       "    </tr>\n",
       "  </thead>\n",
       "  <tbody>\n",
       "    <tr>\n",
       "      <th>0</th>\n",
       "      <td>12819</td>\n",
       "      <td>7.70</td>\n",
       "      <td>['триллер' 'мелодрама' 'криминал']</td>\n",
       "      <td>миллиардер томас краун пресыщенный финансист п...</td>\n",
       "    </tr>\n",
       "    <tr>\n",
       "      <th>2</th>\n",
       "      <td>894673</td>\n",
       "      <td>4.40</td>\n",
       "      <td>['вестерн' 'иностранный' 'триллер' 'мистика' '...</td>\n",
       "      <td>горах живёт обособленная община возглавляемая ...</td>\n",
       "    </tr>\n",
       "    <tr>\n",
       "      <th>3</th>\n",
       "      <td>485364</td>\n",
       "      <td>6.06</td>\n",
       "      <td>['семейный' 'для' 'кино' 'короткометражный' 'р...</td>\n",
       "      <td>фильм высмеивает тех понимает трудовую дисципл...</td>\n",
       "    </tr>\n",
       "    <tr>\n",
       "      <th>4</th>\n",
       "      <td>1289632</td>\n",
       "      <td>6.40</td>\n",
       "      <td>['семейный' 'приключение' 'кино']</td>\n",
       "      <td>скучном городке линдсборо всё меняется туда пр...</td>\n",
       "    </tr>\n",
       "    <tr>\n",
       "      <th>5</th>\n",
       "      <td>960385</td>\n",
       "      <td>6.30</td>\n",
       "      <td>['комедия']</td>\n",
       "      <td>самого начала отношений страстные любовники то...</td>\n",
       "    </tr>\n",
       "  </tbody>\n",
       "</table>\n",
       "</div>"
      ],
      "text/plain": [
       "     kp_id  rating_kp                                             genres   \n",
       "0    12819       7.70                 ['триллер' 'мелодрама' 'криминал']  \\\n",
       "2   894673       4.40  ['вестерн' 'иностранный' 'триллер' 'мистика' '...   \n",
       "3   485364       6.06  ['семейный' 'для' 'кино' 'короткометражный' 'р...   \n",
       "4  1289632       6.40                  ['семейный' 'приключение' 'кино']   \n",
       "5   960385       6.30                                        ['комедия']   \n",
       "\n",
       "                                         description  \n",
       "0  миллиардер томас краун пресыщенный финансист п...  \n",
       "2  горах живёт обособленная община возглавляемая ...  \n",
       "3  фильм высмеивает тех понимает трудовую дисципл...  \n",
       "4  скучном городке линдсборо всё меняется туда пр...  \n",
       "5  самого начала отношений страстные любовники то...  "
      ]
     },
     "execution_count": 10,
     "metadata": {},
     "output_type": "execute_result"
    }
   ],
   "source": [
    "stop_words = set(nltk.corpus.stopwords.words(\"russian\"))\n",
    "\n",
    "def remove_stopwords(desc):\n",
    "    return \" \".join([word for word in str(desc).split() if word not in stop_words])\n",
    "\n",
    "data[\"description\"] = data[\"description\"].apply(lambda desc: remove_stopwords(desc))\n",
    "data.head()"
   ]
  },
  {
   "cell_type": "markdown",
   "id": "a85083bc",
   "metadata": {},
   "source": [
    "### remove most frequent words"
   ]
  },
  {
   "cell_type": "code",
   "execution_count": 11,
   "id": "82aea23e",
   "metadata": {},
   "outputs": [
    {
     "data": {
      "text/plain": [
       "[('–', 8689),\n",
       " ('онлайн', 4906),\n",
       " ('—', 3920),\n",
       " ('фильм', 3882),\n",
       " ('это', 3790),\n",
       " ('который', 3672),\n",
       " ('жизнь', 3353),\n",
       " ('жизни', 3179),\n",
       " ('нашем', 3145),\n",
       " ('посмотреть', 2828)]"
      ]
     },
     "execution_count": 11,
     "metadata": {},
     "output_type": "execute_result"
    }
   ],
   "source": [
    "from collections import Counter\n",
    "cnt = Counter()\n",
    "for desc in data[\"description\"].values:\n",
    "    for word in desc.split():\n",
    "        cnt[word] += 1\n",
    "        \n",
    "cnt.most_common(10)"
   ]
  },
  {
   "cell_type": "code",
   "execution_count": 12,
   "id": "b66224d6",
   "metadata": {},
   "outputs": [
    {
     "data": {
      "text/html": [
       "<div>\n",
       "<style scoped>\n",
       "    .dataframe tbody tr th:only-of-type {\n",
       "        vertical-align: middle;\n",
       "    }\n",
       "\n",
       "    .dataframe tbody tr th {\n",
       "        vertical-align: top;\n",
       "    }\n",
       "\n",
       "    .dataframe thead th {\n",
       "        text-align: right;\n",
       "    }\n",
       "</style>\n",
       "<table border=\"1\" class=\"dataframe\">\n",
       "  <thead>\n",
       "    <tr style=\"text-align: right;\">\n",
       "      <th></th>\n",
       "      <th>kp_id</th>\n",
       "      <th>rating_kp</th>\n",
       "      <th>genres</th>\n",
       "      <th>description</th>\n",
       "    </tr>\n",
       "  </thead>\n",
       "  <tbody>\n",
       "    <tr>\n",
       "      <th>0</th>\n",
       "      <td>12819</td>\n",
       "      <td>7.70</td>\n",
       "      <td>['триллер' 'мелодрама' 'криминал']</td>\n",
       "      <td>миллиардер томас краун пресыщенный финансист п...</td>\n",
       "    </tr>\n",
       "    <tr>\n",
       "      <th>2</th>\n",
       "      <td>894673</td>\n",
       "      <td>4.40</td>\n",
       "      <td>['вестерн' 'иностранный' 'триллер' 'мистика' '...</td>\n",
       "      <td>горах живёт обособленная община возглавляемая ...</td>\n",
       "    </tr>\n",
       "    <tr>\n",
       "      <th>3</th>\n",
       "      <td>485364</td>\n",
       "      <td>6.06</td>\n",
       "      <td>['семейный' 'для' 'кино' 'короткометражный' 'р...</td>\n",
       "      <td>высмеивает тех понимает трудовую дисциплину фо...</td>\n",
       "    </tr>\n",
       "    <tr>\n",
       "      <th>4</th>\n",
       "      <td>1289632</td>\n",
       "      <td>6.40</td>\n",
       "      <td>['семейный' 'приключение' 'кино']</td>\n",
       "      <td>скучном городке линдсборо всё меняется туда пр...</td>\n",
       "    </tr>\n",
       "    <tr>\n",
       "      <th>5</th>\n",
       "      <td>960385</td>\n",
       "      <td>6.30</td>\n",
       "      <td>['комедия']</td>\n",
       "      <td>самого начала отношений страстные любовники то...</td>\n",
       "    </tr>\n",
       "  </tbody>\n",
       "</table>\n",
       "</div>"
      ],
      "text/plain": [
       "     kp_id  rating_kp                                             genres   \n",
       "0    12819       7.70                 ['триллер' 'мелодрама' 'криминал']  \\\n",
       "2   894673       4.40  ['вестерн' 'иностранный' 'триллер' 'мистика' '...   \n",
       "3   485364       6.06  ['семейный' 'для' 'кино' 'короткометражный' 'р...   \n",
       "4  1289632       6.40                  ['семейный' 'приключение' 'кино']   \n",
       "5   960385       6.30                                        ['комедия']   \n",
       "\n",
       "                                         description  \n",
       "0  миллиардер томас краун пресыщенный финансист п...  \n",
       "2  горах живёт обособленная община возглавляемая ...  \n",
       "3  высмеивает тех понимает трудовую дисциплину фо...  \n",
       "4  скучном городке линдсборо всё меняется туда пр...  \n",
       "5  самого начала отношений страстные любовники то...  "
      ]
     },
     "execution_count": 12,
     "metadata": {},
     "output_type": "execute_result"
    }
   ],
   "source": [
    "freq_words = set([w for (w, wc) in cnt.most_common(10)])\n",
    "\n",
    "def remove_freqwords(desc):\n",
    "    \"\"\"custom function to remove the frequent words\"\"\"\n",
    "    return \" \".join([word for word in str(desc).split() if word not in freq_words])\n",
    "\n",
    "data[\"description\"] = data[\"description\"].apply(lambda desc: remove_freqwords(desc))\n",
    "data.head()"
   ]
  },
  {
   "cell_type": "markdown",
   "id": "2ac1e65b",
   "metadata": {},
   "source": [
    "### Stemming"
   ]
  },
  {
   "cell_type": "code",
   "execution_count": 13,
   "id": "10269c95",
   "metadata": {},
   "outputs": [],
   "source": [
    "from pymystem3 import Mystem"
   ]
  },
  {
   "cell_type": "code",
   "execution_count": 14,
   "id": "0a4bab63",
   "metadata": {},
   "outputs": [
    {
     "data": {
      "text/html": [
       "<div>\n",
       "<style scoped>\n",
       "    .dataframe tbody tr th:only-of-type {\n",
       "        vertical-align: middle;\n",
       "    }\n",
       "\n",
       "    .dataframe tbody tr th {\n",
       "        vertical-align: top;\n",
       "    }\n",
       "\n",
       "    .dataframe thead th {\n",
       "        text-align: right;\n",
       "    }\n",
       "</style>\n",
       "<table border=\"1\" class=\"dataframe\">\n",
       "  <thead>\n",
       "    <tr style=\"text-align: right;\">\n",
       "      <th></th>\n",
       "      <th>kp_id</th>\n",
       "      <th>rating_kp</th>\n",
       "      <th>genres</th>\n",
       "      <th>description</th>\n",
       "    </tr>\n",
       "  </thead>\n",
       "  <tbody>\n",
       "    <tr>\n",
       "      <th>0</th>\n",
       "      <td>12819</td>\n",
       "      <td>7.70</td>\n",
       "      <td>['триллер' 'мелодрама' 'криминал']</td>\n",
       "      <td>миллиардер томас краун пресыщенный финансист п...</td>\n",
       "    </tr>\n",
       "    <tr>\n",
       "      <th>2</th>\n",
       "      <td>894673</td>\n",
       "      <td>4.40</td>\n",
       "      <td>['вестерн' 'иностранный' 'триллер' 'мистика' '...</td>\n",
       "      <td>гора жить обособленный община возглавлять мужч...</td>\n",
       "    </tr>\n",
       "    <tr>\n",
       "      <th>3</th>\n",
       "      <td>485364</td>\n",
       "      <td>6.06</td>\n",
       "      <td>['семейный' 'для' 'кино' 'короткометражный' 'р...</td>\n",
       "      <td>высмеивать тот понимать трудовой дисциплина фо...</td>\n",
       "    </tr>\n",
       "    <tr>\n",
       "      <th>4</th>\n",
       "      <td>1289632</td>\n",
       "      <td>6.40</td>\n",
       "      <td>['семейный' 'приключение' 'кино']</td>\n",
       "      <td>скучный городок линдсборо все меняться туда пр...</td>\n",
       "    </tr>\n",
       "    <tr>\n",
       "      <th>5</th>\n",
       "      <td>960385</td>\n",
       "      <td>6.30</td>\n",
       "      <td>['комедия']</td>\n",
       "      <td>самый начало отношение страстный любовник тону...</td>\n",
       "    </tr>\n",
       "  </tbody>\n",
       "</table>\n",
       "</div>"
      ],
      "text/plain": [
       "     kp_id  rating_kp                                             genres   \n",
       "0    12819       7.70                 ['триллер' 'мелодрама' 'криминал']  \\\n",
       "2   894673       4.40  ['вестерн' 'иностранный' 'триллер' 'мистика' '...   \n",
       "3   485364       6.06  ['семейный' 'для' 'кино' 'короткометражный' 'р...   \n",
       "4  1289632       6.40                  ['семейный' 'приключение' 'кино']   \n",
       "5   960385       6.30                                        ['комедия']   \n",
       "\n",
       "                                         description  \n",
       "0  миллиардер томас краун пресыщенный финансист п...  \n",
       "2  гора жить обособленный община возглавлять мужч...  \n",
       "3  высмеивать тот понимать трудовой дисциплина фо...  \n",
       "4  скучный городок линдсборо все меняться туда пр...  \n",
       "5  самый начало отношение страстный любовник тону...  "
      ]
     },
     "execution_count": 14,
     "metadata": {},
     "output_type": "execute_result"
    }
   ],
   "source": [
    "stemmer = Mystem()\n",
    "\n",
    "def stem_words(desc):\n",
    "    return \"\".join(stemmer.lemmatize(desc))[:-1]\n",
    "\n",
    "data[\"description\"] = data[\"description\"].apply(lambda desc: stem_words(desc))\n",
    "data.head()"
   ]
  },
  {
   "cell_type": "code",
   "execution_count": 15,
   "id": "88f6558f",
   "metadata": {},
   "outputs": [
    {
     "data": {
      "text/plain": [
       "'миллиардер томас краун пресыщенный финансист похищать крупный музей картина моне стоимость 100 млн доллар кэтрин бэннинг следователь страховой компания должный поймать'"
      ]
     },
     "execution_count": 15,
     "metadata": {},
     "output_type": "execute_result"
    }
   ],
   "source": [
    "data.loc[0][\"description\"]"
   ]
  },
  {
   "cell_type": "markdown",
   "id": "41bb3ee3",
   "metadata": {},
   "source": [
    "### Genres preprocessing"
   ]
  },
  {
   "cell_type": "code",
   "execution_count": 16,
   "id": "1e8a6c07",
   "metadata": {},
   "outputs": [
    {
     "data": {
      "text/html": [
       "<div>\n",
       "<style scoped>\n",
       "    .dataframe tbody tr th:only-of-type {\n",
       "        vertical-align: middle;\n",
       "    }\n",
       "\n",
       "    .dataframe tbody tr th {\n",
       "        vertical-align: top;\n",
       "    }\n",
       "\n",
       "    .dataframe thead th {\n",
       "        text-align: right;\n",
       "    }\n",
       "</style>\n",
       "<table border=\"1\" class=\"dataframe\">\n",
       "  <thead>\n",
       "    <tr style=\"text-align: right;\">\n",
       "      <th></th>\n",
       "      <th>kp_id</th>\n",
       "      <th>rating_kp</th>\n",
       "      <th>genres</th>\n",
       "      <th>description</th>\n",
       "    </tr>\n",
       "  </thead>\n",
       "  <tbody>\n",
       "    <tr>\n",
       "      <th>0</th>\n",
       "      <td>12819</td>\n",
       "      <td>7.70</td>\n",
       "      <td>триллер мелодрама криминал</td>\n",
       "      <td>миллиардер томас краун пресыщенный финансист п...</td>\n",
       "    </tr>\n",
       "    <tr>\n",
       "      <th>2</th>\n",
       "      <td>894673</td>\n",
       "      <td>4.40</td>\n",
       "      <td>вестерн иностранный триллер мистика фэнтези за...</td>\n",
       "      <td>гора жить обособленный община возглавлять мужч...</td>\n",
       "    </tr>\n",
       "    <tr>\n",
       "      <th>3</th>\n",
       "      <td>485364</td>\n",
       "      <td>6.06</td>\n",
       "      <td>семейный для кино короткометражный ребенок</td>\n",
       "      <td>высмеивать тот понимать трудовой дисциплина фо...</td>\n",
       "    </tr>\n",
       "    <tr>\n",
       "      <th>4</th>\n",
       "      <td>1289632</td>\n",
       "      <td>6.40</td>\n",
       "      <td>семейный приключение кино</td>\n",
       "      <td>скучный городок линдсборо все меняться туда пр...</td>\n",
       "    </tr>\n",
       "    <tr>\n",
       "      <th>5</th>\n",
       "      <td>960385</td>\n",
       "      <td>6.30</td>\n",
       "      <td>комедия</td>\n",
       "      <td>самый начало отношение страстный любовник тону...</td>\n",
       "    </tr>\n",
       "  </tbody>\n",
       "</table>\n",
       "</div>"
      ],
      "text/plain": [
       "     kp_id  rating_kp                                             genres   \n",
       "0    12819       7.70                         триллер мелодрама криминал  \\\n",
       "2   894673       4.40  вестерн иностранный триллер мистика фэнтези за...   \n",
       "3   485364       6.06         семейный для кино короткометражный ребенок   \n",
       "4  1289632       6.40                          семейный приключение кино   \n",
       "5   960385       6.30                                            комедия   \n",
       "\n",
       "                                         description  \n",
       "0  миллиардер томас краун пресыщенный финансист п...  \n",
       "2  гора жить обособленный община возглавлять мужч...  \n",
       "3  высмеивать тот понимать трудовой дисциплина фо...  \n",
       "4  скучный городок линдсборо все меняться туда пр...  \n",
       "5  самый начало отношение страстный любовник тону...  "
      ]
     },
     "execution_count": 16,
     "metadata": {},
     "output_type": "execute_result"
    }
   ],
   "source": [
    "import string\n",
    "symbols_to_remove = string.punctuation\n",
    "\n",
    "def remove_punctuation(genres):\n",
    "    return genres.translate(str.maketrans('', '', symbols_to_remove))\n",
    "\n",
    "data[\"genres\"] = data[\"genres\"].apply(lambda genres: remove_punctuation(genres))\n",
    "data.head()"
   ]
  },
  {
   "cell_type": "code",
   "execution_count": 17,
   "id": "b5b99790",
   "metadata": {},
   "outputs": [
    {
     "data": {
      "text/plain": [
       "({'анимация',\n",
       "  'аниме',\n",
       "  'артхаус',\n",
       "  'биография',\n",
       "  'боевик',\n",
       "  'вестерн',\n",
       "  'взрослый',\n",
       "  'военный',\n",
       "  'вокруг',\n",
       "  'все',\n",
       "  'детектив',\n",
       "  'детективный',\n",
       "  'детский',\n",
       "  'для',\n",
       "  'документальный',\n",
       "  'дорам',\n",
       "  'драма',\n",
       "  'животное',\n",
       "  'западный',\n",
       "  'зарубежный',\n",
       "  'знать',\n",
       "  'иностранный',\n",
       "  'интервью',\n",
       "  'исторический',\n",
       "  'катастрофа',\n",
       "  'кино',\n",
       "  'классика',\n",
       "  'комедия',\n",
       "  'комикс',\n",
       "  'короткометражный',\n",
       "  'криминал',\n",
       "  'кулинария',\n",
       "  'маленький',\n",
       "  'медицинский',\n",
       "  'мелодрама',\n",
       "  'мировой',\n",
       "  'мистика',\n",
       "  'молодежный',\n",
       "  'музыка',\n",
       "  'музыкальный',\n",
       "  'мультсериал',\n",
       "  'мультфильм',\n",
       "  'мюзикл',\n",
       "  'научно',\n",
       "  'научпоп',\n",
       "  'немой',\n",
       "  'нуар',\n",
       "  'передача',\n",
       "  'песня',\n",
       "  'по',\n",
       "  'познавательный',\n",
       "  'полнометражный',\n",
       "  'популярный',\n",
       "  'приключение',\n",
       "  'про',\n",
       "  'развивать',\n",
       "  'развитие',\n",
       "  'развлекательный',\n",
       "  'развлечение',\n",
       "  'реалити',\n",
       "  'ребенок',\n",
       "  'рекомендовать',\n",
       "  'романс',\n",
       "  'романтика',\n",
       "  'русский',\n",
       "  'самый',\n",
       "  'свет',\n",
       "  'семейный',\n",
       "  'сериал',\n",
       "  'сказка',\n",
       "  'советский',\n",
       "  'спектакль',\n",
       "  'спорт',\n",
       "  'ссср',\n",
       "  'тв',\n",
       "  'телешоу',\n",
       "  'ток',\n",
       "  'триллер',\n",
       "  'увлечение',\n",
       "  'ужас',\n",
       "  'фантастика',\n",
       "  'фильм',\n",
       "  'фэнтези',\n",
       "  'хотеть',\n",
       "  'художественный',\n",
       "  'шоу',\n",
       "  'экранизация',\n",
       "  'юмор'},\n",
       " 88)"
      ]
     },
     "execution_count": 17,
     "metadata": {},
     "output_type": "execute_result"
    }
   ],
   "source": [
    "unique_genres = set()\n",
    "for genres in data.genres:\n",
    "    for genre in genres.split():\n",
    "        unique_genres.add(genre)\n",
    "unique_genres, len(unique_genres)"
   ]
  },
  {
   "cell_type": "code",
   "execution_count": 18,
   "id": "c1d6a4c6",
   "metadata": {},
   "outputs": [
    {
     "data": {
      "text/plain": [
       "({'анимация',\n",
       "  'аниме',\n",
       "  'артхаус',\n",
       "  'биография',\n",
       "  'боевик',\n",
       "  'вестерн',\n",
       "  'взрослый',\n",
       "  'военный',\n",
       "  'вокруг',\n",
       "  'детектив',\n",
       "  'детективный',\n",
       "  'детский',\n",
       "  'документальный',\n",
       "  'дорам',\n",
       "  'драма',\n",
       "  'животное',\n",
       "  'западный',\n",
       "  'зарубежный',\n",
       "  'знать',\n",
       "  'иностранный',\n",
       "  'интервью',\n",
       "  'исторический',\n",
       "  'катастрофа',\n",
       "  'кино',\n",
       "  'классика',\n",
       "  'комедия',\n",
       "  'комикс',\n",
       "  'короткометражный',\n",
       "  'криминал',\n",
       "  'кулинария',\n",
       "  'маленький',\n",
       "  'медицинский',\n",
       "  'мелодрама',\n",
       "  'мировой',\n",
       "  'мистика',\n",
       "  'молодежный',\n",
       "  'музыка',\n",
       "  'музыкальный',\n",
       "  'мультсериал',\n",
       "  'мультфильм',\n",
       "  'мюзикл',\n",
       "  'научно',\n",
       "  'научпоп',\n",
       "  'немой',\n",
       "  'нуар',\n",
       "  'передача',\n",
       "  'песня',\n",
       "  'познавательный',\n",
       "  'полнометражный',\n",
       "  'популярный',\n",
       "  'приключение',\n",
       "  'развивать',\n",
       "  'развитие',\n",
       "  'развлекательный',\n",
       "  'развлечение',\n",
       "  'реалити',\n",
       "  'ребенок',\n",
       "  'рекомендовать',\n",
       "  'романс',\n",
       "  'романтика',\n",
       "  'русский',\n",
       "  'самый',\n",
       "  'свет',\n",
       "  'семейный',\n",
       "  'сериал',\n",
       "  'сказка',\n",
       "  'советский',\n",
       "  'спектакль',\n",
       "  'спорт',\n",
       "  'ссср',\n",
       "  'тв',\n",
       "  'телешоу',\n",
       "  'ток',\n",
       "  'триллер',\n",
       "  'увлечение',\n",
       "  'ужас',\n",
       "  'фантастика',\n",
       "  'фильм',\n",
       "  'фэнтези',\n",
       "  'хотеть',\n",
       "  'художественный',\n",
       "  'шоу',\n",
       "  'экранизация',\n",
       "  'юмор'},\n",
       " 84)"
      ]
     },
     "execution_count": 18,
     "metadata": {},
     "output_type": "execute_result"
    }
   ],
   "source": [
    "import nltk\n",
    "stop_words = set(nltk.corpus.stopwords.words(\"russian\"))\n",
    "\n",
    "result_genres = set()\n",
    "for genre in unique_genres:\n",
    "    if not genre in stop_words:\n",
    "        result_genres.add(genre)\n",
    "result_genres, len(result_genres)"
   ]
  },
  {
   "cell_type": "code",
   "execution_count": 19,
   "id": "faf99bfe",
   "metadata": {},
   "outputs": [
    {
     "data": {
      "text/plain": [
       "75"
      ]
     },
     "execution_count": 19,
     "metadata": {},
     "output_type": "execute_result"
    }
   ],
   "source": [
    "bad_genres = [\n",
    "    \"вокруг\", \"самый\", \"свет\", \"рекомендовать\",\n",
    "    \"хотеть\", \"советский\", \"развивать\", \"увлечение\",\n",
    "    \"знать\", \n",
    "]\n",
    "\n",
    "for genre in bad_genres:\n",
    "    result_genres.remove(genre)\n",
    "len(result_genres)"
   ]
  },
  {
   "cell_type": "markdown",
   "id": "74516a39",
   "metadata": {},
   "source": [
    "### Choose top genres"
   ]
  },
  {
   "cell_type": "code",
   "execution_count": 20,
   "id": "f083e4b4",
   "metadata": {},
   "outputs": [
    {
     "data": {
      "text/plain": [
       "{'драма',\n",
       " 'зарубежный',\n",
       " 'иностранный',\n",
       " 'комедия',\n",
       " 'мелодрама',\n",
       " 'мультфильм',\n",
       " 'русский',\n",
       " 'триллер',\n",
       " 'фильм'}"
      ]
     },
     "execution_count": 20,
     "metadata": {},
     "output_type": "execute_result"
    }
   ],
   "source": [
    "threshold = 2000\n",
    "genres_count = {}\n",
    "for genre in result_genres:\n",
    "    genres_count[genre] = data.genres.str.contains(genre).sum()\n",
    "res_genres = set()\n",
    "for genre in result_genres:\n",
    "    if genres_count[genre] > threshold:\n",
    "        res_genres.add(genre)\n",
    "res_genres"
   ]
  },
  {
   "cell_type": "code",
   "execution_count": 21,
   "id": "2b41e0b1",
   "metadata": {},
   "outputs": [
    {
     "data": {
      "text/html": [
       "<div>\n",
       "<style scoped>\n",
       "    .dataframe tbody tr th:only-of-type {\n",
       "        vertical-align: middle;\n",
       "    }\n",
       "\n",
       "    .dataframe tbody tr th {\n",
       "        vertical-align: top;\n",
       "    }\n",
       "\n",
       "    .dataframe thead th {\n",
       "        text-align: right;\n",
       "    }\n",
       "</style>\n",
       "<table border=\"1\" class=\"dataframe\">\n",
       "  <thead>\n",
       "    <tr style=\"text-align: right;\">\n",
       "      <th></th>\n",
       "      <th>kp_id</th>\n",
       "      <th>rating_kp</th>\n",
       "      <th>genres</th>\n",
       "      <th>description</th>\n",
       "      <th>иностранный</th>\n",
       "      <th>драма</th>\n",
       "      <th>комедия</th>\n",
       "      <th>мультфильм</th>\n",
       "      <th>зарубежный</th>\n",
       "      <th>триллер</th>\n",
       "      <th>мелодрама</th>\n",
       "      <th>русский</th>\n",
       "      <th>фильм</th>\n",
       "    </tr>\n",
       "  </thead>\n",
       "  <tbody>\n",
       "    <tr>\n",
       "      <th>0</th>\n",
       "      <td>12819</td>\n",
       "      <td>7.70</td>\n",
       "      <td>триллер мелодрама криминал</td>\n",
       "      <td>миллиардер томас краун пресыщенный финансист п...</td>\n",
       "      <td>False</td>\n",
       "      <td>True</td>\n",
       "      <td>False</td>\n",
       "      <td>False</td>\n",
       "      <td>False</td>\n",
       "      <td>True</td>\n",
       "      <td>True</td>\n",
       "      <td>False</td>\n",
       "      <td>False</td>\n",
       "    </tr>\n",
       "    <tr>\n",
       "      <th>2</th>\n",
       "      <td>894673</td>\n",
       "      <td>4.40</td>\n",
       "      <td>вестерн иностранный триллер мистика фэнтези за...</td>\n",
       "      <td>гора жить обособленный община возглавлять мужч...</td>\n",
       "      <td>True</td>\n",
       "      <td>False</td>\n",
       "      <td>False</td>\n",
       "      <td>False</td>\n",
       "      <td>True</td>\n",
       "      <td>True</td>\n",
       "      <td>False</td>\n",
       "      <td>False</td>\n",
       "      <td>False</td>\n",
       "    </tr>\n",
       "    <tr>\n",
       "      <th>3</th>\n",
       "      <td>485364</td>\n",
       "      <td>6.06</td>\n",
       "      <td>семейный для кино короткометражный ребенок</td>\n",
       "      <td>высмеивать тот понимать трудовой дисциплина фо...</td>\n",
       "      <td>False</td>\n",
       "      <td>False</td>\n",
       "      <td>False</td>\n",
       "      <td>False</td>\n",
       "      <td>False</td>\n",
       "      <td>False</td>\n",
       "      <td>False</td>\n",
       "      <td>False</td>\n",
       "      <td>False</td>\n",
       "    </tr>\n",
       "    <tr>\n",
       "      <th>4</th>\n",
       "      <td>1289632</td>\n",
       "      <td>6.40</td>\n",
       "      <td>семейный приключение кино</td>\n",
       "      <td>скучный городок линдсборо все меняться туда пр...</td>\n",
       "      <td>False</td>\n",
       "      <td>False</td>\n",
       "      <td>False</td>\n",
       "      <td>False</td>\n",
       "      <td>False</td>\n",
       "      <td>False</td>\n",
       "      <td>False</td>\n",
       "      <td>False</td>\n",
       "      <td>False</td>\n",
       "    </tr>\n",
       "    <tr>\n",
       "      <th>5</th>\n",
       "      <td>960385</td>\n",
       "      <td>6.30</td>\n",
       "      <td>комедия</td>\n",
       "      <td>самый начало отношение страстный любовник тону...</td>\n",
       "      <td>False</td>\n",
       "      <td>False</td>\n",
       "      <td>True</td>\n",
       "      <td>False</td>\n",
       "      <td>False</td>\n",
       "      <td>False</td>\n",
       "      <td>False</td>\n",
       "      <td>False</td>\n",
       "      <td>False</td>\n",
       "    </tr>\n",
       "  </tbody>\n",
       "</table>\n",
       "</div>"
      ],
      "text/plain": [
       "     kp_id  rating_kp                                             genres   \n",
       "0    12819       7.70                         триллер мелодрама криминал  \\\n",
       "2   894673       4.40  вестерн иностранный триллер мистика фэнтези за...   \n",
       "3   485364       6.06         семейный для кино короткометражный ребенок   \n",
       "4  1289632       6.40                          семейный приключение кино   \n",
       "5   960385       6.30                                            комедия   \n",
       "\n",
       "                                         description  иностранный  драма   \n",
       "0  миллиардер томас краун пресыщенный финансист п...        False   True  \\\n",
       "2  гора жить обособленный община возглавлять мужч...         True  False   \n",
       "3  высмеивать тот понимать трудовой дисциплина фо...        False  False   \n",
       "4  скучный городок линдсборо все меняться туда пр...        False  False   \n",
       "5  самый начало отношение страстный любовник тону...        False  False   \n",
       "\n",
       "   комедия  мультфильм  зарубежный  триллер  мелодрама  русский  фильм  \n",
       "0    False       False       False     True       True    False  False  \n",
       "2    False       False        True     True      False    False  False  \n",
       "3    False       False       False    False      False    False  False  \n",
       "4    False       False       False    False      False    False  False  \n",
       "5     True       False       False    False      False    False  False  "
      ]
     },
     "execution_count": 21,
     "metadata": {},
     "output_type": "execute_result"
    }
   ],
   "source": [
    "for genre in res_genres:\n",
    "    data[genre] = data.genres.str.contains(genre)\n",
    "data.head(5)"
   ]
  },
  {
   "cell_type": "code",
   "execution_count": 22,
   "id": "ff19c64d",
   "metadata": {},
   "outputs": [],
   "source": [
    "data = data[data[list(res_genres)].any(axis=1)]"
   ]
  },
  {
   "cell_type": "code",
   "execution_count": 23,
   "id": "846f5eef",
   "metadata": {},
   "outputs": [
    {
     "data": {
      "text/plain": [
       "(13640, 13)"
      ]
     },
     "execution_count": 23,
     "metadata": {},
     "output_type": "execute_result"
    }
   ],
   "source": [
    "data.shape"
   ]
  },
  {
   "cell_type": "code",
   "execution_count": 24,
   "id": "5e90d648",
   "metadata": {},
   "outputs": [
    {
     "data": {
      "text/html": [
       "<div>\n",
       "<style scoped>\n",
       "    .dataframe tbody tr th:only-of-type {\n",
       "        vertical-align: middle;\n",
       "    }\n",
       "\n",
       "    .dataframe tbody tr th {\n",
       "        vertical-align: top;\n",
       "    }\n",
       "\n",
       "    .dataframe thead th {\n",
       "        text-align: right;\n",
       "    }\n",
       "</style>\n",
       "<table border=\"1\" class=\"dataframe\">\n",
       "  <thead>\n",
       "    <tr style=\"text-align: right;\">\n",
       "      <th></th>\n",
       "      <th>kp_id</th>\n",
       "      <th>rating_kp</th>\n",
       "      <th>genres</th>\n",
       "      <th>description</th>\n",
       "      <th>иностранный</th>\n",
       "      <th>драма</th>\n",
       "      <th>комедия</th>\n",
       "      <th>мультфильм</th>\n",
       "      <th>зарубежный</th>\n",
       "      <th>триллер</th>\n",
       "      <th>мелодрама</th>\n",
       "      <th>русский</th>\n",
       "      <th>фильм</th>\n",
       "    </tr>\n",
       "  </thead>\n",
       "  <tbody>\n",
       "    <tr>\n",
       "      <th>0</th>\n",
       "      <td>12819</td>\n",
       "      <td>7.7</td>\n",
       "      <td>триллер мелодрама криминал</td>\n",
       "      <td>миллиардер томас краун пресыщенный финансист п...</td>\n",
       "      <td>False</td>\n",
       "      <td>True</td>\n",
       "      <td>False</td>\n",
       "      <td>False</td>\n",
       "      <td>False</td>\n",
       "      <td>True</td>\n",
       "      <td>True</td>\n",
       "      <td>False</td>\n",
       "      <td>False</td>\n",
       "    </tr>\n",
       "    <tr>\n",
       "      <th>2</th>\n",
       "      <td>894673</td>\n",
       "      <td>4.4</td>\n",
       "      <td>вестерн иностранный триллер мистика фэнтези за...</td>\n",
       "      <td>гора жить обособленный община возглавлять мужч...</td>\n",
       "      <td>True</td>\n",
       "      <td>False</td>\n",
       "      <td>False</td>\n",
       "      <td>False</td>\n",
       "      <td>True</td>\n",
       "      <td>True</td>\n",
       "      <td>False</td>\n",
       "      <td>False</td>\n",
       "      <td>False</td>\n",
       "    </tr>\n",
       "    <tr>\n",
       "      <th>5</th>\n",
       "      <td>960385</td>\n",
       "      <td>6.3</td>\n",
       "      <td>комедия</td>\n",
       "      <td>самый начало отношение страстный любовник тону...</td>\n",
       "      <td>False</td>\n",
       "      <td>False</td>\n",
       "      <td>True</td>\n",
       "      <td>False</td>\n",
       "      <td>False</td>\n",
       "      <td>False</td>\n",
       "      <td>False</td>\n",
       "      <td>False</td>\n",
       "      <td>False</td>\n",
       "    </tr>\n",
       "    <tr>\n",
       "      <th>6</th>\n",
       "      <td>43127</td>\n",
       "      <td>7.3</td>\n",
       "      <td>драма советский военный ссср</td>\n",
       "      <td>советский художественный рассказывать событие ...</td>\n",
       "      <td>False</td>\n",
       "      <td>True</td>\n",
       "      <td>False</td>\n",
       "      <td>False</td>\n",
       "      <td>False</td>\n",
       "      <td>False</td>\n",
       "      <td>False</td>\n",
       "      <td>False</td>\n",
       "      <td>False</td>\n",
       "    </tr>\n",
       "    <tr>\n",
       "      <th>7</th>\n",
       "      <td>331881</td>\n",
       "      <td>5.3</td>\n",
       "      <td>ссср советский комедия</td>\n",
       "      <td>привычный порядком надоедать менять чтото сила...</td>\n",
       "      <td>False</td>\n",
       "      <td>False</td>\n",
       "      <td>True</td>\n",
       "      <td>False</td>\n",
       "      <td>False</td>\n",
       "      <td>False</td>\n",
       "      <td>False</td>\n",
       "      <td>False</td>\n",
       "      <td>False</td>\n",
       "    </tr>\n",
       "  </tbody>\n",
       "</table>\n",
       "</div>"
      ],
      "text/plain": [
       "    kp_id  rating_kp                                             genres   \n",
       "0   12819        7.7                         триллер мелодрама криминал  \\\n",
       "2  894673        4.4  вестерн иностранный триллер мистика фэнтези за...   \n",
       "5  960385        6.3                                            комедия   \n",
       "6   43127        7.3                       драма советский военный ссср   \n",
       "7  331881        5.3                             ссср советский комедия   \n",
       "\n",
       "                                         description  иностранный  драма   \n",
       "0  миллиардер томас краун пресыщенный финансист п...        False   True  \\\n",
       "2  гора жить обособленный община возглавлять мужч...         True  False   \n",
       "5  самый начало отношение страстный любовник тону...        False  False   \n",
       "6  советский художественный рассказывать событие ...        False   True   \n",
       "7  привычный порядком надоедать менять чтото сила...        False  False   \n",
       "\n",
       "   комедия  мультфильм  зарубежный  триллер  мелодрама  русский  фильм  \n",
       "0    False       False       False     True       True    False  False  \n",
       "2    False       False        True     True      False    False  False  \n",
       "5     True       False       False    False      False    False  False  \n",
       "6    False       False       False    False      False    False  False  \n",
       "7     True       False       False    False      False    False  False  "
      ]
     },
     "execution_count": 24,
     "metadata": {},
     "output_type": "execute_result"
    }
   ],
   "source": [
    "data.head()"
   ]
  },
  {
   "cell_type": "markdown",
   "id": "55d41861",
   "metadata": {},
   "source": [
    "## Modeling"
   ]
  },
  {
   "cell_type": "code",
   "execution_count": 25,
   "id": "29014d81",
   "metadata": {},
   "outputs": [],
   "source": [
    "# метка = случайный из тех что True\n",
    "labels = data[list(res_genres)].apply(\n",
    "    lambda row: np.random.choice(np.where(row.to_numpy() == True)[0]), \n",
    "    axis=1\n",
    ")"
   ]
  },
  {
   "cell_type": "code",
   "execution_count": 26,
   "id": "09cbf13e",
   "metadata": {},
   "outputs": [],
   "source": [
    "data[\"label\"] = labels"
   ]
  },
  {
   "cell_type": "code",
   "execution_count": 27,
   "id": "d0de6c1a",
   "metadata": {
    "scrolled": true
   },
   "outputs": [
    {
     "data": {
      "text/html": [
       "<div>\n",
       "<style scoped>\n",
       "    .dataframe tbody tr th:only-of-type {\n",
       "        vertical-align: middle;\n",
       "    }\n",
       "\n",
       "    .dataframe tbody tr th {\n",
       "        vertical-align: top;\n",
       "    }\n",
       "\n",
       "    .dataframe thead th {\n",
       "        text-align: right;\n",
       "    }\n",
       "</style>\n",
       "<table border=\"1\" class=\"dataframe\">\n",
       "  <thead>\n",
       "    <tr style=\"text-align: right;\">\n",
       "      <th></th>\n",
       "      <th>kp_id</th>\n",
       "      <th>rating_kp</th>\n",
       "      <th>genres</th>\n",
       "      <th>description</th>\n",
       "      <th>иностранный</th>\n",
       "      <th>драма</th>\n",
       "      <th>комедия</th>\n",
       "      <th>мультфильм</th>\n",
       "      <th>зарубежный</th>\n",
       "      <th>триллер</th>\n",
       "      <th>мелодрама</th>\n",
       "      <th>русский</th>\n",
       "      <th>фильм</th>\n",
       "      <th>label</th>\n",
       "    </tr>\n",
       "  </thead>\n",
       "  <tbody>\n",
       "    <tr>\n",
       "      <th>0</th>\n",
       "      <td>12819</td>\n",
       "      <td>7.7</td>\n",
       "      <td>триллер мелодрама криминал</td>\n",
       "      <td>миллиардер томас краун пресыщенный финансист п...</td>\n",
       "      <td>False</td>\n",
       "      <td>True</td>\n",
       "      <td>False</td>\n",
       "      <td>False</td>\n",
       "      <td>False</td>\n",
       "      <td>True</td>\n",
       "      <td>True</td>\n",
       "      <td>False</td>\n",
       "      <td>False</td>\n",
       "      <td>6</td>\n",
       "    </tr>\n",
       "    <tr>\n",
       "      <th>2</th>\n",
       "      <td>894673</td>\n",
       "      <td>4.4</td>\n",
       "      <td>вестерн иностранный триллер мистика фэнтези за...</td>\n",
       "      <td>гора жить обособленный община возглавлять мужч...</td>\n",
       "      <td>True</td>\n",
       "      <td>False</td>\n",
       "      <td>False</td>\n",
       "      <td>False</td>\n",
       "      <td>True</td>\n",
       "      <td>True</td>\n",
       "      <td>False</td>\n",
       "      <td>False</td>\n",
       "      <td>False</td>\n",
       "      <td>5</td>\n",
       "    </tr>\n",
       "    <tr>\n",
       "      <th>5</th>\n",
       "      <td>960385</td>\n",
       "      <td>6.3</td>\n",
       "      <td>комедия</td>\n",
       "      <td>самый начало отношение страстный любовник тону...</td>\n",
       "      <td>False</td>\n",
       "      <td>False</td>\n",
       "      <td>True</td>\n",
       "      <td>False</td>\n",
       "      <td>False</td>\n",
       "      <td>False</td>\n",
       "      <td>False</td>\n",
       "      <td>False</td>\n",
       "      <td>False</td>\n",
       "      <td>2</td>\n",
       "    </tr>\n",
       "    <tr>\n",
       "      <th>6</th>\n",
       "      <td>43127</td>\n",
       "      <td>7.3</td>\n",
       "      <td>драма советский военный ссср</td>\n",
       "      <td>советский художественный рассказывать событие ...</td>\n",
       "      <td>False</td>\n",
       "      <td>True</td>\n",
       "      <td>False</td>\n",
       "      <td>False</td>\n",
       "      <td>False</td>\n",
       "      <td>False</td>\n",
       "      <td>False</td>\n",
       "      <td>False</td>\n",
       "      <td>False</td>\n",
       "      <td>1</td>\n",
       "    </tr>\n",
       "    <tr>\n",
       "      <th>7</th>\n",
       "      <td>331881</td>\n",
       "      <td>5.3</td>\n",
       "      <td>ссср советский комедия</td>\n",
       "      <td>привычный порядком надоедать менять чтото сила...</td>\n",
       "      <td>False</td>\n",
       "      <td>False</td>\n",
       "      <td>True</td>\n",
       "      <td>False</td>\n",
       "      <td>False</td>\n",
       "      <td>False</td>\n",
       "      <td>False</td>\n",
       "      <td>False</td>\n",
       "      <td>False</td>\n",
       "      <td>2</td>\n",
       "    </tr>\n",
       "  </tbody>\n",
       "</table>\n",
       "</div>"
      ],
      "text/plain": [
       "    kp_id  rating_kp                                             genres   \n",
       "0   12819        7.7                         триллер мелодрама криминал  \\\n",
       "2  894673        4.4  вестерн иностранный триллер мистика фэнтези за...   \n",
       "5  960385        6.3                                            комедия   \n",
       "6   43127        7.3                       драма советский военный ссср   \n",
       "7  331881        5.3                             ссср советский комедия   \n",
       "\n",
       "                                         description  иностранный  драма   \n",
       "0  миллиардер томас краун пресыщенный финансист п...        False   True  \\\n",
       "2  гора жить обособленный община возглавлять мужч...         True  False   \n",
       "5  самый начало отношение страстный любовник тону...        False  False   \n",
       "6  советский художественный рассказывать событие ...        False   True   \n",
       "7  привычный порядком надоедать менять чтото сила...        False  False   \n",
       "\n",
       "   комедия  мультфильм  зарубежный  триллер  мелодрама  русский  фильм  label  \n",
       "0    False       False       False     True       True    False  False      6  \n",
       "2    False       False        True     True      False    False  False      5  \n",
       "5     True       False       False    False      False    False  False      2  \n",
       "6    False       False       False    False      False    False  False      1  \n",
       "7     True       False       False    False      False    False  False      2  "
      ]
     },
     "execution_count": 27,
     "metadata": {},
     "output_type": "execute_result"
    }
   ],
   "source": [
    "data.head()"
   ]
  },
  {
   "cell_type": "code",
   "execution_count": 28,
   "id": "5adb6474",
   "metadata": {},
   "outputs": [
    {
     "data": {
      "text/plain": [
       "label\n",
       "0     778\n",
       "1    4312\n",
       "2    2262\n",
       "3     590\n",
       "4    1051\n",
       "5    1437\n",
       "6    1150\n",
       "7    1278\n",
       "8     782\n",
       "Name: label, dtype: int64"
      ]
     },
     "execution_count": 28,
     "metadata": {},
     "output_type": "execute_result"
    }
   ],
   "source": [
    "data_grouped_cnt = data.groupby(['label'])['label'].count()\n",
    "data_grouped_cnt"
   ]
  },
  {
   "cell_type": "code",
   "execution_count": 30,
   "id": "43b62383",
   "metadata": {},
   "outputs": [
    {
     "name": "stdout",
     "output_type": "stream",
     "text": [
      "Train data size: (9548,)\n",
      "Test data size: (4092,)\n"
     ]
    }
   ],
   "source": [
    "from sklearn.model_selection import train_test_split\n",
    "\n",
    "X_train, X_test, y_train, y_test = train_test_split(\n",
    "    data['description'], data['label'],\n",
    "    test_size=0.3,\n",
    "    stratify=data['label'],\n",
    "    random_state=42,    \n",
    ")\n",
    "print(f\"Train data size: {X_train.shape}\")\n",
    "print(f\"Test data size: {X_test.shape}\")"
   ]
  },
  {
   "cell_type": "code",
   "execution_count": 31,
   "id": "c50c46c9",
   "metadata": {},
   "outputs": [],
   "source": [
    "from sklearn.pipeline import Pipeline\n",
    "from sklearn.neighbors import KNeighborsClassifier\n",
    "from sklearn.feature_extraction.text import TfidfVectorizer"
   ]
  },
  {
   "cell_type": "code",
   "execution_count": 34,
   "id": "c667ea43",
   "metadata": {},
   "outputs": [],
   "source": [
    "import sys\n",
    "sys.path.append('../')"
   ]
  },
  {
   "cell_type": "code",
   "execution_count": 35,
   "id": "5f14e260",
   "metadata": {},
   "outputs": [],
   "source": [
    "from pydml.lmnn import LMNN"
   ]
  },
  {
   "cell_type": "markdown",
   "id": "75fdeaf6",
   "metadata": {},
   "source": [
    "# PCA"
   ]
  },
  {
   "cell_type": "code",
   "execution_count": 136,
   "id": "67cb3257",
   "metadata": {},
   "outputs": [],
   "source": [
    "tfidf = TfidfVectorizer()\n",
    "vec_X = tfidf.fit_transform(data['description'].head(500))\n"
   ]
  },
  {
   "cell_type": "code",
   "execution_count": 137,
   "id": "74b8bb2d",
   "metadata": {},
   "outputs": [
    {
     "data": {
      "text/plain": [
       "(500, 8842)"
      ]
     },
     "execution_count": 137,
     "metadata": {},
     "output_type": "execute_result"
    }
   ],
   "source": [
    "vec_X.shape"
   ]
  },
  {
   "cell_type": "code",
   "execution_count": 138,
   "id": "088ae9db",
   "metadata": {},
   "outputs": [],
   "source": [
    "from sklearn.decomposition import TruncatedSVD\n",
    "clf = TruncatedSVD(n_components=10)"
   ]
  },
  {
   "cell_type": "code",
   "execution_count": 139,
   "id": "cd82c622",
   "metadata": {},
   "outputs": [],
   "source": [
    "pca_X = clf.fit_transform(vec_X)"
   ]
  },
  {
   "cell_type": "code",
   "execution_count": 140,
   "id": "c4fcc6ec",
   "metadata": {},
   "outputs": [
    {
     "data": {
      "text/plain": [
       "(500, 10)"
      ]
     },
     "execution_count": 140,
     "metadata": {},
     "output_type": "execute_result"
    }
   ],
   "source": [
    "pca_X.shape"
   ]
  },
  {
   "cell_type": "code",
   "execution_count": 142,
   "id": "e40ebc12",
   "metadata": {},
   "outputs": [
    {
     "name": "stdout",
     "output_type": "stream",
     "text": [
      "Train data size: (350, 10)\n",
      "Test data size: (150, 10)\n"
     ]
    }
   ],
   "source": [
    "from sklearn.model_selection import train_test_split\n",
    "\n",
    "X_train, X_test, y_train, y_test = train_test_split(\n",
    "    pca_X, data['label'].head(500).to_numpy(),\n",
    "    test_size=0.3,\n",
    "    stratify=data['label'].head(500).to_numpy(),\n",
    "    random_state=42,    \n",
    ")\n",
    "print(f\"Train data size: {X_train.shape}\")\n",
    "print(f\"Test data size: {X_test.shape}\")"
   ]
  },
  {
   "cell_type": "markdown",
   "id": "abaa2b9b",
   "metadata": {},
   "source": [
    "## Предсказание рейтинга:"
   ]
  },
  {
   "cell_type": "code",
   "execution_count": 153,
   "id": "821c40f3",
   "metadata": {},
   "outputs": [
    {
     "data": {
      "text/html": [
       "<div>\n",
       "<style scoped>\n",
       "    .dataframe tbody tr th:only-of-type {\n",
       "        vertical-align: middle;\n",
       "    }\n",
       "\n",
       "    .dataframe tbody tr th {\n",
       "        vertical-align: top;\n",
       "    }\n",
       "\n",
       "    .dataframe thead th {\n",
       "        text-align: right;\n",
       "    }\n",
       "</style>\n",
       "<table border=\"1\" class=\"dataframe\">\n",
       "  <thead>\n",
       "    <tr style=\"text-align: right;\">\n",
       "      <th></th>\n",
       "      <th>kp_id</th>\n",
       "      <th>rating_kp</th>\n",
       "      <th>genres</th>\n",
       "      <th>description</th>\n",
       "      <th>иностранный</th>\n",
       "      <th>драма</th>\n",
       "      <th>комедия</th>\n",
       "      <th>мультфильм</th>\n",
       "      <th>зарубежный</th>\n",
       "      <th>триллер</th>\n",
       "      <th>мелодрама</th>\n",
       "      <th>русский</th>\n",
       "      <th>фильм</th>\n",
       "      <th>label</th>\n",
       "    </tr>\n",
       "  </thead>\n",
       "  <tbody>\n",
       "    <tr>\n",
       "      <th>0</th>\n",
       "      <td>12819</td>\n",
       "      <td>7.7</td>\n",
       "      <td>триллер мелодрама криминал</td>\n",
       "      <td>миллиардер томас краун пресыщенный финансист п...</td>\n",
       "      <td>False</td>\n",
       "      <td>True</td>\n",
       "      <td>False</td>\n",
       "      <td>False</td>\n",
       "      <td>False</td>\n",
       "      <td>True</td>\n",
       "      <td>True</td>\n",
       "      <td>False</td>\n",
       "      <td>False</td>\n",
       "      <td>3</td>\n",
       "    </tr>\n",
       "    <tr>\n",
       "      <th>2</th>\n",
       "      <td>894673</td>\n",
       "      <td>4.4</td>\n",
       "      <td>вестерн иностранный триллер мистика фэнтези за...</td>\n",
       "      <td>гора жить обособленный община возглавлять мужч...</td>\n",
       "      <td>True</td>\n",
       "      <td>False</td>\n",
       "      <td>False</td>\n",
       "      <td>False</td>\n",
       "      <td>True</td>\n",
       "      <td>True</td>\n",
       "      <td>False</td>\n",
       "      <td>False</td>\n",
       "      <td>False</td>\n",
       "      <td>0</td>\n",
       "    </tr>\n",
       "    <tr>\n",
       "      <th>5</th>\n",
       "      <td>960385</td>\n",
       "      <td>6.3</td>\n",
       "      <td>комедия</td>\n",
       "      <td>самый начало отношение страстный любовник тону...</td>\n",
       "      <td>False</td>\n",
       "      <td>False</td>\n",
       "      <td>True</td>\n",
       "      <td>False</td>\n",
       "      <td>False</td>\n",
       "      <td>False</td>\n",
       "      <td>False</td>\n",
       "      <td>False</td>\n",
       "      <td>False</td>\n",
       "      <td>1</td>\n",
       "    </tr>\n",
       "    <tr>\n",
       "      <th>6</th>\n",
       "      <td>43127</td>\n",
       "      <td>7.3</td>\n",
       "      <td>драма советский военный ссср</td>\n",
       "      <td>советский художественный рассказывать событие ...</td>\n",
       "      <td>False</td>\n",
       "      <td>True</td>\n",
       "      <td>False</td>\n",
       "      <td>False</td>\n",
       "      <td>False</td>\n",
       "      <td>False</td>\n",
       "      <td>False</td>\n",
       "      <td>False</td>\n",
       "      <td>False</td>\n",
       "      <td>1</td>\n",
       "    </tr>\n",
       "    <tr>\n",
       "      <th>7</th>\n",
       "      <td>331881</td>\n",
       "      <td>5.3</td>\n",
       "      <td>ссср советский комедия</td>\n",
       "      <td>привычный порядком надоедать менять чтото сила...</td>\n",
       "      <td>False</td>\n",
       "      <td>False</td>\n",
       "      <td>True</td>\n",
       "      <td>False</td>\n",
       "      <td>False</td>\n",
       "      <td>False</td>\n",
       "      <td>False</td>\n",
       "      <td>False</td>\n",
       "      <td>False</td>\n",
       "      <td>0</td>\n",
       "    </tr>\n",
       "  </tbody>\n",
       "</table>\n",
       "</div>"
      ],
      "text/plain": [
       "    kp_id  rating_kp                                             genres   \n",
       "0   12819        7.7                         триллер мелодрама криминал  \\\n",
       "2  894673        4.4  вестерн иностранный триллер мистика фэнтези за...   \n",
       "5  960385        6.3                                            комедия   \n",
       "6   43127        7.3                       драма советский военный ссср   \n",
       "7  331881        5.3                             ссср советский комедия   \n",
       "\n",
       "                                         description  иностранный  драма   \n",
       "0  миллиардер томас краун пресыщенный финансист п...        False   True  \\\n",
       "2  гора жить обособленный община возглавлять мужч...         True  False   \n",
       "5  самый начало отношение страстный любовник тону...        False  False   \n",
       "6  советский художественный рассказывать событие ...        False   True   \n",
       "7  привычный порядком надоедать менять чтото сила...        False  False   \n",
       "\n",
       "   комедия  мультфильм  зарубежный  триллер  мелодрама  русский  фильм  label  \n",
       "0    False       False       False     True       True    False  False      3  \n",
       "2    False       False        True     True      False    False  False      0  \n",
       "5     True       False       False    False      False    False  False      1  \n",
       "6    False       False       False    False      False    False  False      1  \n",
       "7     True       False       False    False      False    False  False      0  "
      ]
     },
     "execution_count": 153,
     "metadata": {},
     "output_type": "execute_result"
    }
   ],
   "source": [
    "def rating_cat(r):\n",
    "    if r < 6.0:\n",
    "        return 0\n",
    "    elif 6.0 <= r < 7.5:\n",
    "        return 1\n",
    "    elif 7.5 <= r < 0.9:\n",
    "        return 2\n",
    "    else:\n",
    "        return 3\n",
    "\n",
    "data[\"label\"] = data[\"rating_kp\"].apply(lambda r: rating_cat(r))\n",
    "data.head()"
   ]
  },
  {
   "cell_type": "code",
   "execution_count": 154,
   "id": "6e9203a7",
   "metadata": {},
   "outputs": [],
   "source": [
    "tfidf = TfidfVectorizer()\n",
    "vec_X = tfidf.fit_transform(data['description'].head(500))"
   ]
  },
  {
   "cell_type": "code",
   "execution_count": 155,
   "id": "cfb107bb",
   "metadata": {},
   "outputs": [],
   "source": [
    "from sklearn.decomposition import TruncatedSVD\n",
    "clf = TruncatedSVD(n_components=10)"
   ]
  },
  {
   "cell_type": "code",
   "execution_count": 156,
   "id": "96b50acf",
   "metadata": {},
   "outputs": [],
   "source": [
    "pca_X = clf.fit_transform(vec_X)"
   ]
  },
  {
   "cell_type": "code",
   "execution_count": 157,
   "id": "f51bc009",
   "metadata": {},
   "outputs": [
    {
     "name": "stdout",
     "output_type": "stream",
     "text": [
      "Train data size: (350, 10)\n",
      "Test data size: (150, 10)\n"
     ]
    }
   ],
   "source": [
    "from sklearn.model_selection import train_test_split\n",
    "\n",
    "X_train, X_test, y_train, y_test = train_test_split(\n",
    "    pca_X, data['label'].head(500).to_numpy(),\n",
    "    test_size=0.3,\n",
    "    stratify=data['label'].head(500).to_numpy(),\n",
    "    random_state=42,    \n",
    ")\n",
    "print(f\"Train data size: {X_train.shape}\")\n",
    "print(f\"Test data size: {X_test.shape}\")"
   ]
  },
  {
   "cell_type": "code",
   "execution_count": 158,
   "id": "f4d07540",
   "metadata": {},
   "outputs": [],
   "source": [
    "accs_train_knn = []\n",
    "accs_test_knn = []\n",
    "for k in range(1, 100):\n",
    "    knn_pipeline = Pipeline(steps=[\n",
    "        ('knn', KNeighborsClassifier(n_neighbors=k))\n",
    "    ])\n",
    "    knn_pipeline.fit(X_train, y_train)\n",
    "\n",
    "    knn_preds_train = knn_pipeline.predict(X_train)\n",
    "    knn_preds_test = knn_pipeline.predict(X_test)\n",
    "\n",
    "    curr_acc_train = accuracy_score(y_train, knn_preds_train)\n",
    "    curr_acc_test = accuracy_score(y_test, knn_preds_test)\n",
    "    accs_train_knn.append(curr_acc_train)\n",
    "    accs_test_knn.append(curr_acc_test)"
   ]
  },
  {
   "cell_type": "code",
   "execution_count": 159,
   "id": "29fc725f",
   "metadata": {},
   "outputs": [
    {
     "data": {
      "text/plain": [
       "[<matplotlib.lines.Line2D at 0x2c4eb2a90>]"
      ]
     },
     "execution_count": 159,
     "metadata": {},
     "output_type": "execute_result"
    },
    {
     "data": {
      "image/png": "[encoded data removed]",
      "text/plain": [
       "<Figure size 640x480 with 1 Axes>"
      ]
     },
     "metadata": {},
     "output_type": "display_data"
    }
   ],
   "source": [
    "plt.plot(range(1, 100), accs_test_knn)"
   ]
  },
  {
   "cell_type": "code",
   "execution_count": 161,
   "id": "c21f4bfa",
   "metadata": {},
   "outputs": [],
   "source": [
    "knn_pipeline = Pipeline(steps=[\n",
    "    ('knn', KNeighborsClassifier(n_neighbors=40))\n",
    "])\n",
    "knn_pipeline.fit(X_train, y_train)\n",
    "\n",
    "knn_preds_train = knn_pipeline.predict(X_train)\n",
    "knn_preds_test = knn_pipeline.predict(X_test)"
   ]
  },
  {
   "cell_type": "code",
   "execution_count": 162,
   "id": "9b413759",
   "metadata": {},
   "outputs": [
    {
     "name": "stdout",
     "output_type": "stream",
     "text": [
      "KNN results\n",
      "accuracy = 0.52\n",
      " f1_micro = 0.52\n",
      " f1_macro = 0.2513477088948787\n"
     ]
    }
   ],
   "source": [
    "from sklearn.metrics import accuracy_score, f1_score\n",
    "accuracy = accuracy_score(y_test, knn_preds_test)\n",
    "f1_micro = f1_score(y_test, knn_preds_test, average=\"micro\")\n",
    "f1_macro = f1_score(y_test, knn_preds_test, average=\"macro\")\n",
    "print(\"KNN results\")\n",
    "print(f\"accuracy = {accuracy}\\n f1_micro = {f1_micro}\\n f1_macro = {f1_macro}\")"
   ]
  },
  {
   "cell_type": "code",
   "execution_count": 173,
   "id": "bf7b34a1",
   "metadata": {},
   "outputs": [],
   "source": [
    "lmnn_pipeline = Pipeline(steps=[\n",
    "    ('knn', LMNN(k=4, solver=\"SDP\"))\n",
    "])\n",
    "lmnn_pipeline.fit(X_train, y_train)\n",
    "\n",
    "lmnn_preds_train = lmnn_pipeline.predict(X_train)\n",
    "lmnn_preds_test = lmnn_pipeline.predict(X_test)"
   ]
  },
  {
   "cell_type": "code",
   "execution_count": 174,
   "id": "304d505c",
   "metadata": {},
   "outputs": [
    {
     "name": "stdout",
     "output_type": "stream",
     "text": [
      "KNN results\n",
      "accuracy = 0.5133333333333333\n",
      " f1_micro = 0.5133333333333333\n",
      " f1_macro = 0.4223745363018945\n"
     ]
    }
   ],
   "source": [
    "from sklearn.metrics import accuracy_score, f1_score\n",
    "accuracy = accuracy_score(y_test, lmnn_preds_test)\n",
    "f1_micro = f1_score(y_test, lmnn_preds_test, average=\"micro\")\n",
    "f1_macro = f1_score(y_test, lmnn_preds_test, average=\"macro\")\n",
    "print(\"KNN results\")\n",
    "print(f\"accuracy = {accuracy}\\n f1_micro = {f1_micro}\\n f1_macro = {f1_macro}\")"
   ]
  },
  {
   "cell_type": "code",
   "execution_count": 171,
   "id": "c1562bdd",
   "metadata": {},
   "outputs": [],
   "source": [
    "accs_train = []\n",
    "accs_test = []\n",
    "for k in range(2, 20, 2):\n",
    "    lmnn_pipeline = Pipeline(steps=[\n",
    "        ('knn', LMNN(k=k, solver=\"SDP\"))\n",
    "    ])\n",
    "    lmnn_pipeline.fit(X_train, y_train)\n",
    "    lmnn_preds_train = lmnn_pipeline.predict(X_train)\n",
    "    lmnn_preds_test = lmnn_pipeline.predict(X_test)\n",
    "    curr_acc_train = accuracy_score(y_train, lmnn_preds_train)\n",
    "    curr_acc_test = accuracy_score(y_test, lmnn_preds_test)\n",
    "    accs_train.append(curr_acc_train)\n",
    "    accs_test.append(curr_acc_test)"
   ]
  },
  {
   "cell_type": "code",
   "execution_count": 172,
   "id": "3cd1ddd3",
   "metadata": {},
   "outputs": [
    {
     "data": {
      "text/plain": [
       "[<matplotlib.lines.Line2D at 0x32bb455d0>]"
      ]
     },
     "execution_count": 172,
     "metadata": {},
     "output_type": "execute_result"
    },
    {
     "data": {
      "image/png": "[encoded data removed]",
      "text/plain": [
       "<Figure size 640x480 with 1 Axes>"
      ]
     },
     "metadata": {},
     "output_type": "display_data"
    }
   ],
   "source": [
    "plt.plot(range(2, 20, 2), accs_test)"
   ]
  }
 ],
 "metadata": {
  "kernelspec": {
   "display_name": "Python 3 (ipykernel)",
   "language": "python",
   "name": "python3"
  },
  "language_info": {
   "codemirror_mode": {
    "name": "ipython",
    "version": 3
   },
   "file_extension": ".py",
   "mimetype": "text/x-python",
   "name": "python",
   "nbconvert_exporter": "python",
   "pygments_lexer": "ipython3",
   "version": "3.11.3"
  }
 },
 "nbformat": 4,
 "nbformat_minor": 5
}
